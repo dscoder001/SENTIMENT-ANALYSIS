{
  "cells": [
    {
      "cell_type": "markdown",
      "metadata": {
        "id": "view-in-github",
        "colab_type": "text"
      },
      "source": [
        "<a href=\"https://colab.research.google.com/github/dscoder001/SENTIMENT-ANALYSIS/blob/main/NLP_PROJECT.ipynb\" target=\"_parent\"><img src=\"https://colab.research.google.com/assets/colab-badge.svg\" alt=\"Open In Colab\"/></a>"
      ]
    },
    {
      "cell_type": "markdown",
      "metadata": {
        "id": "7D5x3bPoj48c"
      },
      "source": [
        "\n",
        "\n",
        "\n",
        "\n",
        "\n",
        "\n",
        "#  SENTIMENT ANALYSIS, NLP\n",
        "<h3>  Author: Dhiman Saha<br>\n",
        "Environment: Google colab</h3>\n",
        "\n",
        "Libraries used:\n",
        "<ul>\n",
        "<li> np(for numpy array)</li>\n",
        "<li> pd(panda datasets)</li>\n",
        "<li>scikit-learn's:</li>\n",
        "<ol >\n",
        "<li>train_test_split(To train and split the data)</li>\n",
        "<li>TfidfVectorizer (to create the Tf-Idf vectors)</li>\n",
        "<li>Support Vector Classifier (SVC)</li>\n",
        "<li>make_pipeline(scikit-learn's pipeline module)</li>\n",
        "<li>MultinomialNB(scikit-learn's naive_bayes module)</li>\n",
        "</ol>\n",
        "</ul>"
      ]
    },
    {
      "cell_type": "markdown",
      "source": [
        "## Task 1:\n",
        "\n",
        "\n",
        "---\n",
        "\n",
        "\n",
        "\n",
        "This task comprises of extracting the Restaurant_Reviews related information.\n",
        " \n",
        "The task is achived by following steps:\n",
        "\n",
        "* Read the job posting file job_postings_raw.dat.\n",
        "* Analysed the data to identify the patterns in the data.\n"
      ],
      "metadata": {
        "id": "nC_iWt5KrEP1"
      }
    },
    {
      "cell_type": "markdown",
      "source": [
        "###Step 1 - Importing Libraries"
      ],
      "metadata": {
        "id": "EPeHwW66r2os"
      }
    },
    {
      "cell_type": "code",
      "execution_count": null,
      "metadata": {
        "id": "d5snqH1Bjt37"
      },
      "outputs": [],
      "source": [
        "import pandas as pd\n",
        "import numpy as np"
      ]
    },
    {
      "cell_type": "markdown",
      "source": [
        "###Step 2 - Reading job postings file\n",
        "* Creating Table"
      ],
      "metadata": {
        "id": "5scsKcEPYPbQ"
      }
    },
    {
      "cell_type": "code",
      "execution_count": null,
      "metadata": {
        "colab": {
          "base_uri": "https://localhost:8080/",
          "height": 423
        },
        "id": "gynjb_EelIR0",
        "outputId": "3aaf28c2-403c-4241-80c2-abc0749ba29c"
      },
      "outputs": [
        {
          "output_type": "execute_result",
          "data": {
            "text/plain": [
              "                                                Review  Liked\n",
              "0                             Wow... Loved this place.      1\n",
              "1                                   Crust is not good.      0\n",
              "2            Not tasty and the texture was just nasty.      0\n",
              "3    Stopped by during the late May bank holiday of...      1\n",
              "4    The selection on the menu was great and so wer...      1\n",
              "..                                                 ...    ...\n",
              "995  I think food should have flavor and texture an...      0\n",
              "996                           Appetite instantly gone.      0\n",
              "997  Overall I was not impressed and would not go b...      0\n",
              "998  The whole experience was underwhelming, and I ...      0\n",
              "999  Then, as if I hadn't wasted enough of my life ...      0\n",
              "\n",
              "[1000 rows x 2 columns]"
            ],
            "text/html": [
              "\n",
              "  <div id=\"df-a3d7b1c6-e0a7-4d5d-8154-d65cb68d5700\">\n",
              "    <div class=\"colab-df-container\">\n",
              "      <div>\n",
              "<style scoped>\n",
              "    .dataframe tbody tr th:only-of-type {\n",
              "        vertical-align: middle;\n",
              "    }\n",
              "\n",
              "    .dataframe tbody tr th {\n",
              "        vertical-align: top;\n",
              "    }\n",
              "\n",
              "    .dataframe thead th {\n",
              "        text-align: right;\n",
              "    }\n",
              "</style>\n",
              "<table border=\"1\" class=\"dataframe\">\n",
              "  <thead>\n",
              "    <tr style=\"text-align: right;\">\n",
              "      <th></th>\n",
              "      <th>Review</th>\n",
              "      <th>Liked</th>\n",
              "    </tr>\n",
              "  </thead>\n",
              "  <tbody>\n",
              "    <tr>\n",
              "      <th>0</th>\n",
              "      <td>Wow... Loved this place.</td>\n",
              "      <td>1</td>\n",
              "    </tr>\n",
              "    <tr>\n",
              "      <th>1</th>\n",
              "      <td>Crust is not good.</td>\n",
              "      <td>0</td>\n",
              "    </tr>\n",
              "    <tr>\n",
              "      <th>2</th>\n",
              "      <td>Not tasty and the texture was just nasty.</td>\n",
              "      <td>0</td>\n",
              "    </tr>\n",
              "    <tr>\n",
              "      <th>3</th>\n",
              "      <td>Stopped by during the late May bank holiday of...</td>\n",
              "      <td>1</td>\n",
              "    </tr>\n",
              "    <tr>\n",
              "      <th>4</th>\n",
              "      <td>The selection on the menu was great and so wer...</td>\n",
              "      <td>1</td>\n",
              "    </tr>\n",
              "    <tr>\n",
              "      <th>...</th>\n",
              "      <td>...</td>\n",
              "      <td>...</td>\n",
              "    </tr>\n",
              "    <tr>\n",
              "      <th>995</th>\n",
              "      <td>I think food should have flavor and texture an...</td>\n",
              "      <td>0</td>\n",
              "    </tr>\n",
              "    <tr>\n",
              "      <th>996</th>\n",
              "      <td>Appetite instantly gone.</td>\n",
              "      <td>0</td>\n",
              "    </tr>\n",
              "    <tr>\n",
              "      <th>997</th>\n",
              "      <td>Overall I was not impressed and would not go b...</td>\n",
              "      <td>0</td>\n",
              "    </tr>\n",
              "    <tr>\n",
              "      <th>998</th>\n",
              "      <td>The whole experience was underwhelming, and I ...</td>\n",
              "      <td>0</td>\n",
              "    </tr>\n",
              "    <tr>\n",
              "      <th>999</th>\n",
              "      <td>Then, as if I hadn't wasted enough of my life ...</td>\n",
              "      <td>0</td>\n",
              "    </tr>\n",
              "  </tbody>\n",
              "</table>\n",
              "<p>1000 rows × 2 columns</p>\n",
              "</div>\n",
              "      <button class=\"colab-df-convert\" onclick=\"convertToInteractive('df-a3d7b1c6-e0a7-4d5d-8154-d65cb68d5700')\"\n",
              "              title=\"Convert this dataframe to an interactive table.\"\n",
              "              style=\"display:none;\">\n",
              "        \n",
              "  <svg xmlns=\"http://www.w3.org/2000/svg\" height=\"24px\"viewBox=\"0 0 24 24\"\n",
              "       width=\"24px\">\n",
              "    <path d=\"M0 0h24v24H0V0z\" fill=\"none\"/>\n",
              "    <path d=\"M18.56 5.44l.94 2.06.94-2.06 2.06-.94-2.06-.94-.94-2.06-.94 2.06-2.06.94zm-11 1L8.5 8.5l.94-2.06 2.06-.94-2.06-.94L8.5 2.5l-.94 2.06-2.06.94zm10 10l.94 2.06.94-2.06 2.06-.94-2.06-.94-.94-2.06-.94 2.06-2.06.94z\"/><path d=\"M17.41 7.96l-1.37-1.37c-.4-.4-.92-.59-1.43-.59-.52 0-1.04.2-1.43.59L10.3 9.45l-7.72 7.72c-.78.78-.78 2.05 0 2.83L4 21.41c.39.39.9.59 1.41.59.51 0 1.02-.2 1.41-.59l7.78-7.78 2.81-2.81c.8-.78.8-2.07 0-2.86zM5.41 20L4 18.59l7.72-7.72 1.47 1.35L5.41 20z\"/>\n",
              "  </svg>\n",
              "      </button>\n",
              "      \n",
              "  <style>\n",
              "    .colab-df-container {\n",
              "      display:flex;\n",
              "      flex-wrap:wrap;\n",
              "      gap: 12px;\n",
              "    }\n",
              "\n",
              "    .colab-df-convert {\n",
              "      background-color: #E8F0FE;\n",
              "      border: none;\n",
              "      border-radius: 50%;\n",
              "      cursor: pointer;\n",
              "      display: none;\n",
              "      fill: #1967D2;\n",
              "      height: 32px;\n",
              "      padding: 0 0 0 0;\n",
              "      width: 32px;\n",
              "    }\n",
              "\n",
              "    .colab-df-convert:hover {\n",
              "      background-color: #E2EBFA;\n",
              "      box-shadow: 0px 1px 2px rgba(60, 64, 67, 0.3), 0px 1px 3px 1px rgba(60, 64, 67, 0.15);\n",
              "      fill: #174EA6;\n",
              "    }\n",
              "\n",
              "    [theme=dark] .colab-df-convert {\n",
              "      background-color: #3B4455;\n",
              "      fill: #D2E3FC;\n",
              "    }\n",
              "\n",
              "    [theme=dark] .colab-df-convert:hover {\n",
              "      background-color: #434B5C;\n",
              "      box-shadow: 0px 1px 3px 1px rgba(0, 0, 0, 0.15);\n",
              "      filter: drop-shadow(0px 1px 2px rgba(0, 0, 0, 0.3));\n",
              "      fill: #FFFFFF;\n",
              "    }\n",
              "  </style>\n",
              "\n",
              "      <script>\n",
              "        const buttonEl =\n",
              "          document.querySelector('#df-a3d7b1c6-e0a7-4d5d-8154-d65cb68d5700 button.colab-df-convert');\n",
              "        buttonEl.style.display =\n",
              "          google.colab.kernel.accessAllowed ? 'block' : 'none';\n",
              "\n",
              "        async function convertToInteractive(key) {\n",
              "          const element = document.querySelector('#df-a3d7b1c6-e0a7-4d5d-8154-d65cb68d5700');\n",
              "          const dataTable =\n",
              "            await google.colab.kernel.invokeFunction('convertToInteractive',\n",
              "                                                     [key], {});\n",
              "          if (!dataTable) return;\n",
              "\n",
              "          const docLinkHtml = 'Like what you see? Visit the ' +\n",
              "            '<a target=\"_blank\" href=https://colab.research.google.com/notebooks/data_table.ipynb>data table notebook</a>'\n",
              "            + ' to learn more about interactive tables.';\n",
              "          element.innerHTML = '';\n",
              "          dataTable['output_type'] = 'display_data';\n",
              "          await google.colab.output.renderOutput(dataTable, element);\n",
              "          const docLink = document.createElement('div');\n",
              "          docLink.innerHTML = docLinkHtml;\n",
              "          element.appendChild(docLink);\n",
              "        }\n",
              "      </script>\n",
              "    </div>\n",
              "  </div>\n",
              "  "
            ]
          },
          "metadata": {},
          "execution_count": 30
        }
      ],
      "source": [
        "#Reading Dataset\n",
        "#https://www.kaggle.com/datasets/d4rklucif3r/restaurant-reviews?resource=download\n",
        "df = pd.read_table('/content/Restaurant_Reviews (1).tsv')\n",
        "df"
      ]
    },
    {
      "cell_type": "code",
      "execution_count": null,
      "metadata": {
        "colab": {
          "base_uri": "https://localhost:8080/"
        },
        "id": "-I0ydAcFlakJ",
        "outputId": "15f3df59-153d-4aa1-9fae-de9fc4597999"
      },
      "outputs": [
        {
          "output_type": "stream",
          "name": "stdout",
          "text": [
            "<class 'pandas.core.frame.DataFrame'>\n",
            "RangeIndex: 1000 entries, 0 to 999\n",
            "Data columns (total 2 columns):\n",
            " #   Column  Non-Null Count  Dtype \n",
            "---  ------  --------------  ----- \n",
            " 0   Review  1000 non-null   object\n",
            " 1   Liked   1000 non-null   int64 \n",
            "dtypes: int64(1), object(1)\n",
            "memory usage: 15.8+ KB\n"
          ]
        }
      ],
      "source": [
        "df.info()"
      ]
    },
    {
      "cell_type": "markdown",
      "source": [
        "###Step 3 - Cleaning the data"
      ],
      "metadata": {
        "id": "w8c0Lmgvbl8X"
      }
    },
    {
      "cell_type": "code",
      "execution_count": null,
      "metadata": {
        "colab": {
          "base_uri": "https://localhost:8080/",
          "height": 423
        },
        "id": "mzM_KFLOlj1H",
        "outputId": "fb944baa-172d-4a03-fa3d-83be2c420100"
      },
      "outputs": [
        {
          "output_type": "execute_result",
          "data": {
            "text/plain": [
              "                                                Review  Liked\n",
              "0                             Wow... Loved this place.      1\n",
              "1                                   Crust is not good.      0\n",
              "2            Not tasty and the texture was just nasty.      0\n",
              "3    Stopped by during the late May bank holiday of...      1\n",
              "4    The selection on the menu was great and so wer...      1\n",
              "..                                                 ...    ...\n",
              "995  I think food should have flavor and texture an...      0\n",
              "996                           Appetite instantly gone.      0\n",
              "997  Overall I was not impressed and would not go b...      0\n",
              "998  The whole experience was underwhelming, and I ...      0\n",
              "999  Then, as if I hadn't wasted enough of my life ...      0\n",
              "\n",
              "[996 rows x 2 columns]"
            ],
            "text/html": [
              "\n",
              "  <div id=\"df-bba409b9-22d7-4bc9-a76a-775631e8091e\">\n",
              "    <div class=\"colab-df-container\">\n",
              "      <div>\n",
              "<style scoped>\n",
              "    .dataframe tbody tr th:only-of-type {\n",
              "        vertical-align: middle;\n",
              "    }\n",
              "\n",
              "    .dataframe tbody tr th {\n",
              "        vertical-align: top;\n",
              "    }\n",
              "\n",
              "    .dataframe thead th {\n",
              "        text-align: right;\n",
              "    }\n",
              "</style>\n",
              "<table border=\"1\" class=\"dataframe\">\n",
              "  <thead>\n",
              "    <tr style=\"text-align: right;\">\n",
              "      <th></th>\n",
              "      <th>Review</th>\n",
              "      <th>Liked</th>\n",
              "    </tr>\n",
              "  </thead>\n",
              "  <tbody>\n",
              "    <tr>\n",
              "      <th>0</th>\n",
              "      <td>Wow... Loved this place.</td>\n",
              "      <td>1</td>\n",
              "    </tr>\n",
              "    <tr>\n",
              "      <th>1</th>\n",
              "      <td>Crust is not good.</td>\n",
              "      <td>0</td>\n",
              "    </tr>\n",
              "    <tr>\n",
              "      <th>2</th>\n",
              "      <td>Not tasty and the texture was just nasty.</td>\n",
              "      <td>0</td>\n",
              "    </tr>\n",
              "    <tr>\n",
              "      <th>3</th>\n",
              "      <td>Stopped by during the late May bank holiday of...</td>\n",
              "      <td>1</td>\n",
              "    </tr>\n",
              "    <tr>\n",
              "      <th>4</th>\n",
              "      <td>The selection on the menu was great and so wer...</td>\n",
              "      <td>1</td>\n",
              "    </tr>\n",
              "    <tr>\n",
              "      <th>...</th>\n",
              "      <td>...</td>\n",
              "      <td>...</td>\n",
              "    </tr>\n",
              "    <tr>\n",
              "      <th>995</th>\n",
              "      <td>I think food should have flavor and texture an...</td>\n",
              "      <td>0</td>\n",
              "    </tr>\n",
              "    <tr>\n",
              "      <th>996</th>\n",
              "      <td>Appetite instantly gone.</td>\n",
              "      <td>0</td>\n",
              "    </tr>\n",
              "    <tr>\n",
              "      <th>997</th>\n",
              "      <td>Overall I was not impressed and would not go b...</td>\n",
              "      <td>0</td>\n",
              "    </tr>\n",
              "    <tr>\n",
              "      <th>998</th>\n",
              "      <td>The whole experience was underwhelming, and I ...</td>\n",
              "      <td>0</td>\n",
              "    </tr>\n",
              "    <tr>\n",
              "      <th>999</th>\n",
              "      <td>Then, as if I hadn't wasted enough of my life ...</td>\n",
              "      <td>0</td>\n",
              "    </tr>\n",
              "  </tbody>\n",
              "</table>\n",
              "<p>996 rows × 2 columns</p>\n",
              "</div>\n",
              "      <button class=\"colab-df-convert\" onclick=\"convertToInteractive('df-bba409b9-22d7-4bc9-a76a-775631e8091e')\"\n",
              "              title=\"Convert this dataframe to an interactive table.\"\n",
              "              style=\"display:none;\">\n",
              "        \n",
              "  <svg xmlns=\"http://www.w3.org/2000/svg\" height=\"24px\"viewBox=\"0 0 24 24\"\n",
              "       width=\"24px\">\n",
              "    <path d=\"M0 0h24v24H0V0z\" fill=\"none\"/>\n",
              "    <path d=\"M18.56 5.44l.94 2.06.94-2.06 2.06-.94-2.06-.94-.94-2.06-.94 2.06-2.06.94zm-11 1L8.5 8.5l.94-2.06 2.06-.94-2.06-.94L8.5 2.5l-.94 2.06-2.06.94zm10 10l.94 2.06.94-2.06 2.06-.94-2.06-.94-.94-2.06-.94 2.06-2.06.94z\"/><path d=\"M17.41 7.96l-1.37-1.37c-.4-.4-.92-.59-1.43-.59-.52 0-1.04.2-1.43.59L10.3 9.45l-7.72 7.72c-.78.78-.78 2.05 0 2.83L4 21.41c.39.39.9.59 1.41.59.51 0 1.02-.2 1.41-.59l7.78-7.78 2.81-2.81c.8-.78.8-2.07 0-2.86zM5.41 20L4 18.59l7.72-7.72 1.47 1.35L5.41 20z\"/>\n",
              "  </svg>\n",
              "      </button>\n",
              "      \n",
              "  <style>\n",
              "    .colab-df-container {\n",
              "      display:flex;\n",
              "      flex-wrap:wrap;\n",
              "      gap: 12px;\n",
              "    }\n",
              "\n",
              "    .colab-df-convert {\n",
              "      background-color: #E8F0FE;\n",
              "      border: none;\n",
              "      border-radius: 50%;\n",
              "      cursor: pointer;\n",
              "      display: none;\n",
              "      fill: #1967D2;\n",
              "      height: 32px;\n",
              "      padding: 0 0 0 0;\n",
              "      width: 32px;\n",
              "    }\n",
              "\n",
              "    .colab-df-convert:hover {\n",
              "      background-color: #E2EBFA;\n",
              "      box-shadow: 0px 1px 2px rgba(60, 64, 67, 0.3), 0px 1px 3px 1px rgba(60, 64, 67, 0.15);\n",
              "      fill: #174EA6;\n",
              "    }\n",
              "\n",
              "    [theme=dark] .colab-df-convert {\n",
              "      background-color: #3B4455;\n",
              "      fill: #D2E3FC;\n",
              "    }\n",
              "\n",
              "    [theme=dark] .colab-df-convert:hover {\n",
              "      background-color: #434B5C;\n",
              "      box-shadow: 0px 1px 3px 1px rgba(0, 0, 0, 0.15);\n",
              "      filter: drop-shadow(0px 1px 2px rgba(0, 0, 0, 0.3));\n",
              "      fill: #FFFFFF;\n",
              "    }\n",
              "  </style>\n",
              "\n",
              "      <script>\n",
              "        const buttonEl =\n",
              "          document.querySelector('#df-bba409b9-22d7-4bc9-a76a-775631e8091e button.colab-df-convert');\n",
              "        buttonEl.style.display =\n",
              "          google.colab.kernel.accessAllowed ? 'block' : 'none';\n",
              "\n",
              "        async function convertToInteractive(key) {\n",
              "          const element = document.querySelector('#df-bba409b9-22d7-4bc9-a76a-775631e8091e');\n",
              "          const dataTable =\n",
              "            await google.colab.kernel.invokeFunction('convertToInteractive',\n",
              "                                                     [key], {});\n",
              "          if (!dataTable) return;\n",
              "\n",
              "          const docLinkHtml = 'Like what you see? Visit the ' +\n",
              "            '<a target=\"_blank\" href=https://colab.research.google.com/notebooks/data_table.ipynb>data table notebook</a>'\n",
              "            + ' to learn more about interactive tables.';\n",
              "          element.innerHTML = '';\n",
              "          dataTable['output_type'] = 'display_data';\n",
              "          await google.colab.output.renderOutput(dataTable, element);\n",
              "          const docLink = document.createElement('div');\n",
              "          docLink.innerHTML = docLinkHtml;\n",
              "          element.appendChild(docLink);\n",
              "        }\n",
              "      </script>\n",
              "    </div>\n",
              "  </div>\n",
              "  "
            ]
          },
          "metadata": {},
          "execution_count": 32
        }
      ],
      "source": [
        "#removing all duplicate emails from the dataframe\n",
        "df = df.drop_duplicates(keep = 'last') \n",
        "df"
      ]
    },
    {
      "cell_type": "markdown",
      "source": [
        "<"
      ],
      "metadata": {
        "id": "awXVWtp4bQiZ"
      }
    },
    {
      "cell_type": "markdown",
      "source": [
        "###Step 4 - Gaing information about the data"
      ],
      "metadata": {
        "id": "BtBkK2orb4yk"
      }
    },
    {
      "cell_type": "code",
      "execution_count": null,
      "metadata": {
        "colab": {
          "base_uri": "https://localhost:8080/"
        },
        "id": "nNssWCrblwXi",
        "outputId": "3bd53a4c-d7ce-44f1-b181-e5ce0bf20bc0"
      },
      "outputs": [
        {
          "output_type": "execute_result",
          "data": {
            "text/plain": [
              "1    499\n",
              "0    497\n",
              "Name: Liked, dtype: int64"
            ]
          },
          "metadata": {},
          "execution_count": 33
        }
      ],
      "source": [
        "df['Liked'].value_counts()"
      ]
    },
    {
      "cell_type": "markdown",
      "source": [
        "Graph of liked and unliked reviev"
      ],
      "metadata": {
        "id": "1J16LnPDSXH2"
      }
    },
    {
      "cell_type": "code",
      "execution_count": null,
      "metadata": {
        "colab": {
          "base_uri": "https://localhost:8080/",
          "height": 443
        },
        "id": "RtqGzruMmEie",
        "outputId": "2bd8e60c-4d35-4e74-bb0b-cd70919e4754"
      },
      "outputs": [
        {
          "output_type": "execute_result",
          "data": {
            "text/plain": [
              "<Axes: >"
            ]
          },
          "metadata": {},
          "execution_count": 34
        },
        {
          "output_type": "display_data",
          "data": {
            "text/plain": [
              "<Figure size 640x480 with 1 Axes>"
            ],
            "image/png": "[encoded data removed]"
          },
          "metadata": {}
        }
      ],
      "source": [
        "df['Liked'].value_counts().plot(kind='bar',)\n",
        "\n"
      ]
    },
    {
      "cell_type": "markdown",
      "source": [
        "<h2>"
      ],
      "metadata": {
        "id": "5IUFtyqicnik"
      }
    },
    {
      "cell_type": "markdown",
      "source": [
        "##Task - 2:\n",
        "\n",
        "---\n",
        "\n",
        "\n",
        "This task comprises of extracting the resturant related information from a file. The extracted data has to be used to create a vocab and a count vector.\n",
        "\n",
        "The task was achieved in the following steps:\n",
        "<ul>\n",
        "<li>Read the resturant_review dataset file containing the 'Review' colum to process\n",
        "<li>Read the relevant review\n",
        "<li>Apply the tokenization, word removals and stemming to produce good vocab, common English words (such as 'a', 'the', 'and', etc.) should be excluded from the feature set.\n",
        "</ul>"
      ],
      "metadata": {
        "id": "mfYISL7Vc-P_"
      }
    },
    {
      "cell_type": "markdown",
      "source": [
        "###Step 1 - Extracting\n",
        "<li>x variable is assigned the values from the 'Review' column of the DataFrame.</li>\n",
        "<li>y variable is assigned the values from the 'Liked' column of the DataFrame.</li>\n",
        "\n",
        "values attribute is used to obtain the numpy array containing the column values."
      ],
      "metadata": {
        "id": "LFpfEdC2sFEq"
      }
    },
    {
      "cell_type": "code",
      "execution_count": null,
      "metadata": {
        "id": "atY1jHrQUnqg"
      },
      "outputs": [],
      "source": [
        "# Extract the 'Review' column values as input features\n",
        "x = df['Review'].values\n",
        "# Extract the 'Liked' column values as target variable\n",
        "y = df['Liked'].values"
      ]
    },
    {
      "cell_type": "markdown",
      "source": [
        "###Step 2 - Import train_test_split function from scikit-learn's model_selection module\n",
        "\n",
        "* function is used to split the data into training and test sets"
      ],
      "metadata": {
        "id": "U-jxc_3Uj3S_"
      }
    },
    {
      "cell_type": "code",
      "execution_count": null,
      "metadata": {
        "id": "5B-7TVmzVw-r",
        "colab": {
          "base_uri": "https://localhost:8080/"
        },
        "outputId": "82a85d46-1df2-49cb-d113-8db81af81302"
      },
      "outputs": [
        {
          "output_type": "stream",
          "name": "stdout",
          "text": [
            "(776,)\n",
            "(220,)\n"
          ]
        }
      ],
      "source": [
        "# Split the data into training and test sets\n",
        "# Set test_size=0.22 to allocate 22% of the data for testing\n",
        "# Set random_state=11 for reproducible results\n",
        "from sklearn.model_selection import train_test_split \n",
        "x_train,x_test,y_train,y_test = train_test_split(x,y,test_size = 0.22,random_state = 11)\n",
        "#print the shape of x_train and x_test \n",
        "print(x_train.shape)\n",
        "print(x_test.shape)"
      ]
    },
    {
      "cell_type": "markdown",
      "source": [
        "###Step 3 - Creating Vocab\n",
        "* TfidfVectorizer is a useful tool for converting text documents into numerical representations based on term frequency-inverse document frequency (TF-IDF).\n",
        "* TfidfVectorizer is initialized with the parameter stop_words='english'. This parameter specifies that common English words (such as 'a', 'the', 'and', etc.) should be excluded from the feature set, as they typically do not contribute much to the meaning of the text.\n",
        "* It computes the TF-IDF values for the training data based on the learned vocabulary from x_train.\n",
        "* It applies the learned vocabulary and TF-IDF calculations from the training data to the test data, resulting in a sparse matrix representation of the transformed test data.\n",
        "\n",
        "* the sparse matrix representation of the training data x_train_vect into a dense array representation, which can be more convenient for certain operations or analysis that require array-like structures."
      ],
      "metadata": {
        "id": "yrPO1VjHlNle"
      }
    },
    {
      "cell_type": "code",
      "execution_count": null,
      "metadata": {
        "id": "v0-_V52fV9i4",
        "colab": {
          "base_uri": "https://localhost:8080/"
        },
        "outputId": "1c5370b2-9ef8-4d53-e429-c2a1a239eb06"
      },
      "outputs": [
        {
          "output_type": "execute_result",
          "data": {
            "text/plain": [
              "array([[0., 0., 0., ..., 0., 0., 0.],\n",
              "       [0., 0., 0., ..., 0., 0., 0.],\n",
              "       [0., 0., 0., ..., 0., 0., 0.],\n",
              "       ...,\n",
              "       [0., 0., 0., ..., 0., 0., 0.],\n",
              "       [0., 0., 0., ..., 0., 0., 0.],\n",
              "       [0., 0., 0., ..., 0., 0., 0.]])"
            ]
          },
          "metadata": {},
          "execution_count": 37
        }
      ],
      "source": [
        "# Import TfidfVectorizer from scikit-learn's feature_extraction.text module\n",
        "#from sklearn.feature_extraction.text import CountVectorizer \n",
        "from sklearn.feature_extraction.text import TfidfVectorizer\n",
        "\n",
        "\n",
        "# Initialize TfidfVectorizer with stop_words='english'\n",
        "vect = TfidfVectorizer(stop_words='english')\n",
        "\n",
        "# Transform the test data using the fitted vectorizer\n",
        "x_train_vect = vect.fit_transform(x_train)\n",
        "# Transform the test data using the fitted vectorizer\n",
        "x_test_vect = vect.transform(x_test) \n",
        "\n",
        "# Convert the training data to a dense array representation\n",
        "x_train_vect.toarray()"
      ]
    },
    {
      "cell_type": "markdown",
      "metadata": {
        "id": "ra7XFB2rX59h"
      },
      "source": [
        "##Task-3:\n",
        "\n",
        "\n",
        "---\n",
        "\n",
        "\n",
        "In this task the training and test data will be fitted to the model, and the the best model will be stelected.<br>\n",
        "This task comprises of following steps:\n",
        "* classification tasks using Support Vector Machines (SVM) and scikit-learn's naive_bayes module.\n",
        "* Create a pipeline combining models.\n",
        "* Check for best accuracy score.\n",
        "\n"
      ]
    },
    {
      "cell_type": "markdown",
      "source": [
        "###Step 1- classifying the model\n",
        "* Import Classification module from scikit-learn's.\n",
        "* Fit the model to training data.\n",
        "* Check the accuracy Score.\n",
        "\n",
        "\n",
        "METHOD-1: SVC"
      ],
      "metadata": {
        "id": "tqi57AwxsVBW"
      }
    },
    {
      "cell_type": "code",
      "execution_count": null,
      "metadata": {
        "colab": {
          "base_uri": "https://localhost:8080/"
        },
        "id": "kkG9ID8pWfS1",
        "outputId": "74a125ee-4abf-48fe-f745-d921060e848c"
      },
      "outputs": [
        {
          "output_type": "execute_result",
          "data": {
            "text/plain": [
              "array([1, 0, 1, 1, 0, 0, 0, 1, 1, 0, 0, 0, 0, 1, 0, 0, 1, 1, 0, 1, 1, 1,\n",
              "       0, 0, 0, 0, 1, 1, 0, 1, 1, 1, 1, 1, 0, 1, 1, 1, 0, 1, 0, 0, 1, 1,\n",
              "       1, 1, 0, 1, 0, 0, 1, 1, 0, 0, 1, 0, 0, 1, 1, 1, 0, 0, 0, 1, 1, 1,\n",
              "       0, 1, 0, 0, 0, 0, 1, 1, 0, 1, 1, 0, 1, 0, 1, 0, 1, 1, 1, 0, 0, 1,\n",
              "       1, 0, 0, 0, 1, 0, 0, 0, 0, 1, 1, 1, 1, 1, 0, 0, 1, 1, 0, 0, 0, 0,\n",
              "       0, 1, 0, 1, 1, 0, 0, 1, 1, 1, 1, 0, 1, 0, 1, 0, 0, 1, 1, 0, 1, 1,\n",
              "       0, 1, 1, 0, 0, 1, 1, 0, 1, 1, 0, 1, 1, 0, 0, 1, 0, 0, 0, 0, 1, 0,\n",
              "       0, 1, 1, 1, 1, 1, 0, 0, 1, 1, 0, 0, 0, 1, 0, 1, 1, 0, 0, 0, 1, 0,\n",
              "       1, 0, 1, 0, 0, 0, 1, 0, 1, 1, 0, 0, 0, 1, 0, 1, 0, 1, 1, 1, 0, 1,\n",
              "       0, 1, 1, 1, 0, 1, 1, 0, 0, 1, 1, 1, 0, 1, 1, 0, 0, 0, 1, 0, 1, 1])"
            ]
          },
          "metadata": {},
          "execution_count": 38
        }
      ],
      "source": [
        "# Import the Support Vector Classifier (SVC) class from scikit-learn's svm module\n",
        "from sklearn.svm import SVC \n",
        "# Create an instance of SVC\n",
        "model_svc = SVC()\n",
        "# Fit the SVC model to the training data\n",
        "model_svc.fit(x_train_vect,y_train)\n",
        "# Make predictions on the test data using the trained model\n",
        "y_pred_svc = model_svc.predict(x_test_vect)\n",
        "# Display the predicted values\n",
        "y_pred_svc"
      ]
    },
    {
      "cell_type": "code",
      "execution_count": null,
      "metadata": {
        "colab": {
          "base_uri": "https://localhost:8080/"
        },
        "id": "A0ORsrLLWrBi",
        "outputId": "ac4932bf-e307-47be-b42c-e83ef099c702"
      },
      "outputs": [
        {
          "output_type": "execute_result",
          "data": {
            "text/plain": [
              "0.8"
            ]
          },
          "metadata": {},
          "execution_count": 39
        }
      ],
      "source": [
        "#check the accuracy score\n",
        "from sklearn.metrics import accuracy_score \n",
        "accuracy_score(y_pred_svc,y_test)"
      ]
    },
    {
      "cell_type": "markdown",
      "source": [
        "###Step 2 - Usig pipelines\n",
        "* Create a pipeline that applies the TfidfVectorizer to the input text data, followed by the classifier.\n",
        "* Fits the pipeline to the training data.\n",
        "* Predict and check the acurracy score.\n",
        "\n",
        "Method-1.1: TfidfVectorizer and SVC\n"
      ],
      "metadata": {
        "id": "SUTrUlDOHFPV"
      }
    },
    {
      "cell_type": "code",
      "execution_count": null,
      "metadata": {
        "colab": {
          "base_uri": "https://localhost:8080/"
        },
        "id": "49bDKID5WttD",
        "outputId": "d3585097-bd4f-49fc-eb21-970eeafc2b35"
      },
      "outputs": [
        {
          "output_type": "execute_result",
          "data": {
            "text/plain": [
              "array([1, 1, 1, 0, 0, 0, 0, 1, 1, 0, 1, 0, 0, 1, 0, 0, 1, 1, 0, 0, 1, 1,\n",
              "       0, 0, 0, 0, 1, 1, 0, 1, 1, 1, 1, 1, 0, 1, 1, 1, 0, 1, 0, 0, 1, 1,\n",
              "       1, 1, 1, 1, 0, 0, 1, 0, 0, 0, 1, 0, 0, 1, 1, 1, 0, 1, 0, 1, 1, 1,\n",
              "       0, 1, 0, 0, 0, 0, 1, 1, 0, 0, 0, 0, 0, 0, 1, 1, 1, 0, 0, 0, 0, 1,\n",
              "       1, 0, 0, 0, 1, 0, 0, 0, 0, 1, 1, 1, 1, 0, 0, 0, 0, 0, 0, 1, 0, 0,\n",
              "       0, 1, 0, 1, 1, 1, 0, 0, 1, 1, 1, 0, 0, 1, 0, 0, 0, 1, 1, 0, 1, 1,\n",
              "       1, 1, 1, 0, 0, 1, 1, 0, 1, 1, 0, 0, 1, 0, 0, 1, 0, 0, 0, 0, 1, 1,\n",
              "       0, 1, 1, 1, 1, 0, 0, 0, 1, 1, 0, 0, 0, 1, 0, 1, 1, 0, 0, 0, 0, 0,\n",
              "       1, 0, 1, 0, 0, 0, 1, 1, 1, 1, 1, 0, 0, 1, 0, 1, 1, 1, 1, 1, 0, 1,\n",
              "       0, 1, 1, 1, 0, 1, 1, 0, 0, 1, 0, 1, 1, 1, 1, 1, 0, 0, 1, 0, 0, 1])"
            ]
          },
          "metadata": {},
          "execution_count": 40
        }
      ],
      "source": [
        "#Method 1.1 Pipeline \n",
        "# Import the make_pipeline function from scikit-learn's pipeline module\n",
        "from sklearn.pipeline import make_pipeline\n",
        "# Create a pipeline combining TfidfVectorizer and SVC \n",
        "model2 = make_pipeline(TfidfVectorizer(),SVC()) \n",
        "\n",
        "# Fit the pipeline to the training data\n",
        "model2.fit(x_train,y_train)\n",
        "# Make predictions on the test data using the pipeline\n",
        "y_pred2 = model2.predict(x_test)\n",
        "#Display predictions\n",
        "y_pred2"
      ]
    },
    {
      "cell_type": "code",
      "execution_count": null,
      "metadata": {
        "colab": {
          "base_uri": "https://localhost:8080/"
        },
        "id": "W7GADANiY0Ab",
        "outputId": "8a1be731-d2d3-4966-b2f3-6dc681d242a0"
      },
      "outputs": [
        {
          "output_type": "execute_result",
          "data": {
            "text/plain": [
              "0.8272727272727273"
            ]
          },
          "metadata": {},
          "execution_count": 41
        }
      ],
      "source": [
        "accuracy_score(y_pred2,y_test)"
      ]
    },
    {
      "cell_type": "markdown",
      "source": [
        "Method-2: MultinomialNB"
      ],
      "metadata": {
        "id": "9R1bi5bFMlfH"
      }
    },
    {
      "cell_type": "code",
      "execution_count": null,
      "metadata": {
        "id": "JpTxfetwZdNE",
        "colab": {
          "base_uri": "https://localhost:8080/"
        },
        "outputId": "20134893-221d-405d-b945-d4b864c9ce55"
      },
      "outputs": [
        {
          "output_type": "execute_result",
          "data": {
            "text/plain": [
              "array([1, 1, 1, 1, 0, 0, 0, 1, 1, 0, 1, 0, 0, 1, 0, 0, 1, 1, 0, 1, 1, 1,\n",
              "       0, 0, 0, 0, 1, 1, 0, 1, 1, 1, 1, 1, 0, 1, 1, 1, 0, 1, 0, 0, 1, 1,\n",
              "       1, 1, 0, 1, 0, 0, 1, 1, 0, 0, 1, 0, 0, 1, 1, 1, 0, 0, 0, 1, 1, 1,\n",
              "       0, 1, 0, 0, 0, 0, 1, 1, 0, 1, 1, 0, 1, 1, 0, 0, 1, 0, 1, 0, 0, 1,\n",
              "       1, 0, 0, 0, 1, 0, 0, 0, 0, 1, 1, 1, 1, 1, 1, 0, 1, 1, 0, 0, 0, 0,\n",
              "       0, 1, 0, 1, 1, 1, 0, 1, 1, 1, 1, 0, 1, 0, 1, 0, 0, 1, 1, 0, 1, 1,\n",
              "       1, 1, 1, 0, 1, 1, 1, 0, 1, 1, 1, 1, 1, 0, 0, 1, 0, 0, 0, 0, 1, 0,\n",
              "       0, 1, 1, 1, 1, 1, 0, 0, 1, 1, 0, 0, 0, 1, 1, 1, 1, 0, 0, 0, 1, 0,\n",
              "       1, 1, 1, 0, 0, 0, 1, 0, 1, 1, 0, 0, 0, 1, 0, 1, 0, 1, 1, 1, 1, 1,\n",
              "       0, 1, 1, 1, 0, 1, 1, 0, 0, 1, 1, 1, 0, 1, 1, 0, 0, 0, 1, 0, 1, 1])"
            ]
          },
          "metadata": {},
          "execution_count": 42
        }
      ],
      "source": [
        "#Method 2 MultinomialNB\n",
        "# Import the MultinomialNB class from scikit-learn's naive_bayes module\n",
        "from sklearn.naive_bayes import MultinomialNB\n",
        "model3=MultinomialNB()\n",
        "# Create an instance of MultinomialNB\n",
        "model3.fit(x_train_vect,y_train)\n",
        "# Make predictions on the test data using the trained MultinomialNB model\n",
        "y_pred3 = model3.predict(x_test_vect)\n",
        "\n",
        "y_pred3"
      ]
    },
    {
      "cell_type": "code",
      "execution_count": null,
      "metadata": {
        "colab": {
          "base_uri": "https://localhost:8080/"
        },
        "id": "xNSyQn77aWfT",
        "outputId": "3ccb2446-acaf-4e03-d79b-a39d7134b356"
      },
      "outputs": [
        {
          "output_type": "execute_result",
          "data": {
            "text/plain": [
              "0.7954545454545454"
            ]
          },
          "metadata": {},
          "execution_count": 43
        }
      ],
      "source": [
        "#Check accuracy scored\n",
        "accuracy_score(y_pred3,y_test)"
      ]
    },
    {
      "cell_type": "markdown",
      "source": [
        "METHOD 2.1: NB + Countvectorizer/TfidfVectorizer pipeline"
      ],
      "metadata": {
        "id": "U3clwr8iNfA8"
      }
    },
    {
      "cell_type": "code",
      "execution_count": null,
      "metadata": {
        "colab": {
          "base_uri": "https://localhost:8080/"
        },
        "id": "3OQ9OsNRaY7b",
        "outputId": "07a6da74-7814-41a0-9b0d-303709f8fd54"
      },
      "outputs": [
        {
          "output_type": "execute_result",
          "data": {
            "text/plain": [
              "array([1, 1, 1, 0, 0, 0, 0, 1, 1, 0, 1, 0, 0, 1, 0, 0, 1, 1, 0, 0, 1, 1,\n",
              "       0, 0, 0, 0, 1, 1, 0, 1, 1, 1, 1, 1, 0, 1, 1, 1, 0, 1, 0, 0, 1, 1,\n",
              "       1, 1, 0, 1, 0, 0, 1, 0, 0, 0, 1, 0, 0, 1, 1, 1, 0, 0, 0, 1, 1, 1,\n",
              "       0, 1, 0, 0, 0, 0, 1, 1, 0, 0, 0, 0, 0, 0, 0, 1, 1, 0, 0, 0, 0, 1,\n",
              "       1, 0, 0, 0, 1, 0, 0, 0, 0, 1, 1, 1, 1, 0, 0, 0, 0, 0, 0, 1, 0, 0,\n",
              "       0, 1, 0, 1, 1, 0, 0, 1, 1, 1, 1, 0, 0, 1, 1, 0, 0, 1, 1, 0, 1, 1,\n",
              "       1, 1, 1, 0, 0, 1, 1, 0, 1, 1, 1, 1, 1, 0, 0, 1, 0, 0, 0, 0, 1, 1,\n",
              "       0, 1, 1, 1, 1, 0, 0, 0, 1, 1, 0, 0, 0, 1, 0, 1, 1, 0, 0, 0, 0, 0,\n",
              "       1, 1, 1, 0, 0, 0, 1, 1, 1, 1, 0, 0, 0, 1, 0, 1, 1, 1, 1, 1, 1, 1,\n",
              "       0, 1, 1, 1, 0, 1, 1, 0, 0, 1, 1, 1, 0, 1, 0, 1, 0, 0, 1, 0, 1, 1])"
            ]
          },
          "metadata": {},
          "execution_count": 44
        }
      ],
      "source": [
        "#METHOD 2.1 NB + Countvectorizer/TfidfVectorizer pipeline\n",
        "# Import the make_pipeline function from scikit-learn's pipeline module\n",
        "from sklearn.pipeline import make_pipeline\n",
        "# Create a pipeline combining TfidfVectorizer and MultinomialNB\n",
        "model4 = make_pipeline(TfidfVectorizer(),MultinomialNB())\n",
        "# Fit the pipeline to the training data\n",
        "model4.fit(x_train,y_train)\n",
        "y_pred4 = model4.predict(x_test)\n",
        "y_pred4"
      ]
    },
    {
      "cell_type": "code",
      "execution_count": null,
      "metadata": {
        "colab": {
          "base_uri": "https://localhost:8080/"
        },
        "id": "bf9JSXjBapRP",
        "outputId": "ea165f7d-5e0c-461b-8767-4e712b7bc05a"
      },
      "outputs": [
        {
          "output_type": "execute_result",
          "data": {
            "text/plain": [
              "0.8136363636363636"
            ]
          },
          "metadata": {},
          "execution_count": 45
        }
      ],
      "source": [
        "accuracy_score(y_pred4,y_test)"
      ]
    },
    {
      "cell_type": "markdown",
      "source": [
        "Comparimg the accuracy score"
      ],
      "metadata": {
        "id": "SrA81QTrhYm5"
      }
    },
    {
      "cell_type": "code",
      "execution_count": null,
      "metadata": {
        "id": "CYl9KAsaarPV"
      },
      "outputs": [],
      "source": [
        "#For countvectorizer \n",
        "\n",
        "# accuracy score - 0.781  (SVC)\n",
        "# accuracy score - 0.8  (SVC pipeline)\n",
        "# accuracy score - 0.7863636363636364 (MultinomialNB)\n",
        "# accuracy score - 0.8045454545454546 (MultinomialNB pipeline) "
      ]
    },
    {
      "cell_type": "code",
      "execution_count": null,
      "metadata": {
        "id": "ZEGz27mDdaI7"
      },
      "outputs": [],
      "source": [
        "#For TfidfVectorizer\n",
        "\n",
        "#accuracy score - 0.8  (SVC)\n",
        "# accuracy score - 0.8272727272727273 (SVC pipeline) \n",
        "# accuracy score - 0.7954545454545454 (MultinomialNB)\n",
        "# accuracy score - 0.8136363636363636(MultinomialNB pipeline)"
      ]
    },
    {
      "cell_type": "markdown",
      "source": [
        "\n",
        "###Method-1.1 TfidfVectorizer and SVC: has the best accuracy score - 0.8272727272727273 (SVC pipeline)"
      ],
      "metadata": {
        "id": "H92ZUthEgODi"
      }
    },
    {
      "cell_type": "markdown",
      "source": [
        "##End Task:\n",
        "\n",
        "\n",
        "---\n",
        "\n",
        "\n",
        "The import joblib statement imports the joblib module, which provides utilities for serialization (saving) and deserialization (loading) of Python objects, including machine learning models. It is commonly used in conjunction with Scikit-learn to save and load trained models."
      ],
      "metadata": {
        "id": "3tHmeuKThiAv"
      }
    },
    {
      "cell_type": "code",
      "execution_count": null,
      "metadata": {
        "colab": {
          "base_uri": "https://localhost:8080/"
        },
        "id": "GroK_PNAkg22",
        "outputId": "552ba59e-f725-4b25-a94b-902562696450"
      },
      "outputs": [
        {
          "output_type": "execute_result",
          "data": {
            "text/plain": [
              "['Review-Liked']"
            ]
          },
          "metadata": {},
          "execution_count": 48
        }
      ],
      "source": [
        "# Import the joblib module for model serialization\n",
        "import joblib \n",
        "# Save the trained model to a file\n",
        "joblib.dump(model2,'Review-Liked')"
      ]
    },
    {
      "cell_type": "code",
      "execution_count": null,
      "metadata": {
        "id": "DGhV4D63k09f"
      },
      "outputs": [],
      "source": [
        "#Load the serialized model into a new object\n",
        "import joblib\n",
        "reload_model = joblib.load('Review-Liked')"
      ]
    },
    {
      "cell_type": "code",
      "execution_count": null,
      "metadata": {
        "colab": {
          "base_uri": "https://localhost:8080/"
        },
        "id": "l6FGDZtdlBHM",
        "outputId": "5e4b82cc-d309-49d5-837c-699267c06ff3"
      },
      "outputs": [
        {
          "output_type": "execute_result",
          "data": {
            "text/plain": [
              "array([1])"
            ]
          },
          "metadata": {},
          "execution_count": 50
        }
      ],
      "source": [
        "reload_model.predict(['good'])"
      ]
    },
    {
      "cell_type": "code",
      "execution_count": null,
      "metadata": {
        "colab": {
          "base_uri": "https://localhost:8080/"
        },
        "id": "RUug2NuYlWBV",
        "outputId": "f80874f0-62fb-44a8-ad1e-49d8cd59758d"
      },
      "outputs": [
        {
          "output_type": "execute_result",
          "data": {
            "text/plain": [
              "array([0])"
            ]
          },
          "metadata": {},
          "execution_count": 51
        }
      ],
      "source": [
        "reload_model.predict(['dont like it'])"
      ]
    },
    {
      "cell_type": "code",
      "execution_count": null,
      "metadata": {
        "colab": {
          "base_uri": "https://localhost:8080/"
        },
        "id": "ROwa2MbLlZ3q",
        "outputId": "1e303dd7-51e3-414e-df22-514dfebb2a3f"
      },
      "outputs": [
        {
          "output_type": "execute_result",
          "data": {
            "text/plain": [
              "array([1])"
            ]
          },
          "metadata": {},
          "execution_count": 52
        }
      ],
      "source": [
        "reload_model.predict(['awesome'])"
      ]
    },
    {
      "cell_type": "markdown",
      "source": [
        "###Joblib Summary:\n",
        " The joblib.load('Review-Liked') line loads the serialized model stored in the file 'Review-Liked' and deserializes it, creating a new object reload_model. The load() function from the joblib module is used to read the serialized data from the file and reconstruct the original model object. This allows you to reload the trained model later and use it for making predictions or performing other operations.\n",
        "\n",
        "By using joblib.dump() and joblib.load(), you can save and load machine learning models, providing a convenient way to store trained models and reuse them without the need for retraining.\n",
        "\n",
        "\n",
        "\n",
        "\n",
        "\n",
        "\n"
      ],
      "metadata": {
        "id": "Iv3y07sUkYzA"
      }
    },
    {
      "cell_type": "markdown",
      "source": [
        "##Creating a Webapp:\n"
      ],
      "metadata": {
        "id": "YEPwpn7XlimZ"
      }
    },
    {
      "cell_type": "code",
      "execution_count": null,
      "metadata": {
        "id": "pkWr7i6ElgBI"
      },
      "outputs": [],
      "source": [
        "#STREAMLIT (used to create the webapp)\n",
        "!pip install streamlit --quiet "
      ]
    },
    {
      "cell_type": "code",
      "execution_count": null,
      "metadata": {
        "colab": {
          "base_uri": "https://localhost:8080/"
        },
        "id": "-iDQu5Yjlpjt",
        "outputId": "02935ebe-353a-440e-8a5e-580686b21532"
      },
      "outputs": [
        {
          "output_type": "stream",
          "name": "stdout",
          "text": [
            "Overwriting app.py\n"
          ]
        }
      ],
      "source": [
        "%%writefile app.py\n",
        "\n",
        "import streamlit as st\n",
        "import joblib\n",
        "\n",
        "st.title(\"SENTIMENT ANALYSIS\")\n",
        "reload_model = joblib.load('Review-Liked')\n",
        "\n",
        "ip = st.text_input(\"Enter the review/text :\")\n",
        "op = reload_model.predict([ip])\n",
        "\n",
        "review = ['Negative', 'Positive']\n",
        "if st.button('PREDICT'):\n",
        "  st.title(review[op[0]])\n"
      ]
    },
    {
      "cell_type": "code",
      "execution_count": null,
      "metadata": {
        "colab": {
          "base_uri": "https://localhost:8080/"
        },
        "id": "TjEh57ARM4ss",
        "outputId": "f802d79c-32c9-4431-b35b-35d73641b50f"
      },
      "outputs": [
        {
          "output_type": "stream",
          "name": "stdout",
          "text": [
            "[##................] \\ fetchMetadata: sill resolveWithNewModule ms@2.1.2 checki\u001b[0m\u001b[K\n",
            "Collecting usage statistics. To deactivate, set browser.gatherUsageStats to False.\n",
            "\u001b[0m\n",
            "\u001b[0m\n",
            "\u001b[34m\u001b[1m  You can now view your Streamlit app in your browser.\u001b[0m\n",
            "\u001b[0m\n",
            "\u001b[34m  Network URL: \u001b[0m\u001b[1mhttp://172.28.0.12:8501\u001b[0m\n",
            "\u001b[34m  External URL: \u001b[0m\u001b[1mhttp://35.204.146.20:8501\u001b[0m\n",
            "\u001b[0m\n",
            "\u001b[K\u001b[?25hnpx: installed 22 in 4.651s\n",
            "your url is: https://puny-terms-invent.loca.lt\n",
            "\u001b[34m  Stopping...\u001b[0m\n",
            "^C\n"
          ]
        }
      ],
      "source": [
        "!streamlit run app.py & npx localtunnel --port 8501"
      ]
    },
    {
      "cell_type": "markdown",
      "source": [
        "#References\n",
        "* The pandas Project. (2022). pandas 0.23.4 documentation: pandas.DataFrame. Retrived from-https://pandas.pydata.org/pandas-docs/stable/\n",
        "* scikit-learn 1.1.0 is available for download - https://scikit-learn.org/stable/whats_new/v1.1.html#version-1-1-0\n",
        "* Kaggle-Dataset for Natural language Processing from-https://www.kaggle.com/"
      ],
      "metadata": {
        "id": "6AWdCDW5nPO7"
      }
    }
  ],
  "metadata": {
    "colab": {
      "provenance": [],
      "gpuType": "T4",
      "toc_visible": true,
      "mount_file_id": "1mN75gp0Qt8B16K17-xfxRnkNILYpUrlk",
      "authorship_tag": "ABX9TyOB+rnCjCQzGSr6KQL1n6r8",
      "include_colab_link": true
    },
    "kernelspec": {
      "display_name": "Python 3",
      "name": "python3"
    },
    "language_info": {
      "name": "python"
    },
    "accelerator": "GPU",
    "gpuClass": "standard"
  },
  "nbformat": 4,
  "nbformat_minor": 0
}